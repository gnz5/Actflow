{
 "cells": [
  {
   "cell_type": "code",
   "execution_count": null,
   "metadata": {},
   "outputs": [],
   "source": [
    "import ActflowToolbox as actflow"
   ]
  },
  {
   "cell_type": "code",
   "execution_count": null,
   "metadata": {},
   "outputs": [],
   "source": [
    "# make sure all required packages are present\n",
    "import numpy as np\n",
    "import h5py\n",
    "import pkg_resources\n",
    "import matplotlib as mpl\n",
    "import matplotlib.pyplot as plt\n",
    "import seaborn as sns\n",
    "import matplotlib.image as mpimg\n",
    "import sys\n",
    "from wbplot import pscalar\n",
    "from scipy import stats\n",
    "\n",
    "sys.path.insert(0, '../../')"
   ]
  },
  {
   "cell_type": "code",
   "execution_count": null,
   "metadata": {},
   "outputs": [],
   "source": [
    "actflow_example_dir = pkg_resources.resource_filename('ActflowToolbox.examples', 'HCP_example_data/')\n",
    "networkpartition_dir = pkg_resources.resource_filename('ActflowToolbox.dependencies', 'ColeAnticevicNetPartition/')\n",
    "networkdefdir = pkg_resources.resource_filename('ActflowToolbox', 'network_definitions/')\n",
    "\n",
    "inputfilename = networkdefdir+'parcels_to_remove_indices_cortexonly_data.h5'\n",
    "networkdef = np.loadtxt(networkpartition_dir + '/cortex_parcel_network_assignments.txt')\n",
    "\n",
    "networkorder = np.asarray(sorted(range(len(networkdef)), key=lambda k: networkdef[k]))\n",
    "networkorder.shape = (len(networkorder),1)\n",
    "netorder=networkorder[:,0]\n",
    "orderedNetworks = ['VIS1','VIS2','SMN','CON','DAN','LAN','FPN','AUD','DMN','PMM','VMM','ORA']\n",
    "networkpalette = ['royalblue','slateblue','paleturquoise','darkorchid','limegreen',\n",
    "                  'lightseagreen','yellow','orchid','r','peru','orange','olivedrab']\n",
    "networkpalette = np.asarray(networkpalette)\n",
    "\n",
    "subjNums = ['100206','108020','117930','126325','133928','143224','153934','164636','174437',\n",
    "            '183034','194443','204521','212823','268749','322224','385450','463040','529953',\n",
    "            '587664','656253','731140','814548','877269','978578','100408','108222','118124',\n",
    "            '126426','134021','144832']\n",
    "numsubjs=np.shape(subjNums)[0]\n",
    "numnodes=360\n",
    "numtimepoints=1195\n",
    "\n",
    "taskConditions = ['EMOTION:fear','EMOTION:neut','GAMBLING:win','GAMBLING:loss','LANGUAGE:story','LANGUAGE:math',\n",
    "                  'MOTOR:cue','MOTOR:lf','MOTOR:rf','MOTOR:lh','MOTOR:rh','MOTOR:t','REASONING:rel',\n",
    "                  'REASONING:match','SOCIAL:mental','SOCIAL:rnd','WM 0bk:body','WM 0bk:faces','WM 0bk:places',\n",
    "                  'WM 0bk:tools','WM 2bk:body','WM 2bk:faces','WM 2bk:places','WM 2bk:tools']"
   ]
  },
  {
   "cell_type": "code",
   "execution_count": null,
   "metadata": {},
   "outputs": [],
   "source": [
    "restdata=np.zeros((numnodes,numtimepoints,numsubjs))\n",
    "scount = 0\n",
    "for subj in subjNums:\n",
    "    file_path=actflow_example_dir + 'HCP_example_restrun1_subj' + subj + '_data' + '.h5'\n",
    "    h5f = h5py.File(file_path,'r')\n",
    "    dataid = 'restdata'\n",
    "    restdata[:,:,scount] = h5f[dataid][:]\n",
    "    h5f.close()\n",
    "    scount += 1\n",
    "\n",
    "#Load task GLM activations; 30 HCP subjects, 24 task conditions\n",
    "file_path=actflow_example_dir + 'HCP_example_taskactivations_data' + '.h5'\n",
    "h5f = h5py.File(file_path,'r')\n",
    "dataid = 'taskbeta'\n",
    "activations_bycond = h5f[dataid][:]\n",
    "h5f.close()"
   ]
  },
  {
   "cell_type": "code",
   "execution_count": null,
   "metadata": {},
   "outputs": [],
   "source": [
    "assert activations_bycond == \"placeholder\""
   ]
  },
  {
   "cell_type": "code",
   "execution_count": null,
   "metadata": {},
   "outputs": [],
   "source": [
    "restFC_corr=np.zeros((numnodes,numnodes,numsubjs))\n",
    "scount=0\n",
    "for subj in subjNums:\n",
    "    restFC_corr[:,:,scount]=actflow.connectivity_estimation.corrcoefconn(restdata[:,:,scount])\n",
    "    scount += 1"
   ]
  },
  {
   "cell_type": "code",
   "execution_count": null,
   "metadata": {},
   "outputs": [],
   "source": [
    "assert restFC_corr == \"placeholder\""
   ]
  },
  {
   "cell_type": "code",
   "execution_count": null,
   "metadata": {},
   "outputs": [],
   "source": [
    "print(\"==Activity flow mapping results, correlation-based resting-state FC, 24 task conditions==\")\n",
    "actflowOutput_restFCCorr_bycond = actflow.actflowcomp.actflowtest(activations_bycond, restFC_corr)"
   ]
  },
  {
   "cell_type": "code",
   "execution_count": null,
   "metadata": {},
   "outputs": [],
   "source": [
    "assert actflowOutput_restFCCorr_bycond == \"placeholder\""
   ]
  },
  {
   "cell_type": "code",
   "execution_count": null,
   "metadata": {},
   "outputs": [],
   "source": [
    "#Plotting brain surface images in-line, FC-based predictions \n",
    "condNum=12 #condition 9 = relational reasoning\n",
    "\n",
    "#RestFC predicted\n",
    "inputdata=np.mean(actflowOutput_restFCCorr_bycond['actPredVector_bytask_bysubj'],axis=2)[:,condNum]\n",
    "print('Min value: ', np.min(inputdata))\n",
    "print('Max value: ', np.max(inputdata))\n",
    "\n",
    "#flip hemispheres, since CAB-NP is ordered left-to-right, while wbplot uses right-to-left\n",
    "inputdata_flipped=np.zeros(np.shape(inputdata))\n",
    "inputdata_flipped[0:180]=inputdata[180:360]\n",
    "inputdata_flipped[180:360]=inputdata[0:180]\n",
    "file_out=\"out.png\"\n",
    "\n",
    "#Actual activity\n",
    "inputdata=np.mean(activations_bycond,axis=2)[:,condNum]\n",
    "print('Min value: ', np.min(inputdata))\n",
    "print('Max value: ', np.max(inputdata))\n",
    "\n",
    "#flip hemispheres, since CAB-NP is ordered left-to-right, while wbplot uses right-to-left\n",
    "inputdata_flipped=np.zeros(np.shape(inputdata))\n",
    "inputdata_flipped[0:180]=inputdata[180:360]\n",
    "inputdata_flipped[180:360]=inputdata[0:180]\n",
    "file_out=\"out.png\""
   ]
  },
  {
   "cell_type": "code",
   "execution_count": null,
   "metadata": {},
   "outputs": [],
   "source": [
    "#Run activity flow mapping with ten subjects (to reduce processing time)\n",
    "#Calculate multiple-regression FC\n",
    "restFC_mreg=np.zeros((numnodes,numnodes,numsubjs))\n",
    "for scount in np.arange(numsubjs):\n",
    "    restFC_mreg[:,:,scount]=actflow.connectivity_estimation.multregconn(restdata[:,:,scount])"
   ]
  },
  {
   "cell_type": "code",
   "execution_count": null,
   "metadata": {
    "scrolled": true
   },
   "outputs": [],
   "source": [
    "assert restFC_mreg == \"placeholder\""
   ]
  },
  {
   "cell_type": "code",
   "execution_count": null,
   "metadata": {},
   "outputs": [],
   "source": [
    "print(\"==Activity flow mapping results, multiple-regression-based resting-state FC, 24 task conditions==\")\n",
    "actflowOutput_restFCMReg_bycond = actflow.actflowcomp.actflowtest(activations_bycond, restFC_mreg)"
   ]
  },
  {
   "cell_type": "code",
   "execution_count": null,
   "metadata": {},
   "outputs": [],
   "source": [
    "assert actflowOutput_restFCMReg_bycond == \"placeholder\""
   ]
  },
  {
   "cell_type": "code",
   "execution_count": null,
   "metadata": {},
   "outputs": [],
   "source": [
    "#Visualize multreg FC matrix\n",
    "fcmat=np.mean(restFC_mreg[netorder,:,:][:,netorder,:],axis=2)"
   ]
  },
  {
   "cell_type": "code",
   "execution_count": null,
   "metadata": {},
   "outputs": [],
   "source": [
    "assert fcmat == \"placeholder\""
   ]
  },
  {
   "cell_type": "code",
   "execution_count": null,
   "metadata": {},
   "outputs": [],
   "source": [
    "#Plotting brain surface images in-line, FC-based predictions \n",
    "condNum=12 #condition 9 = relational reasoning\n",
    "\n",
    "#RestFC predicted\n",
    "inputdata=np.mean(actflowOutput_restFCMReg_bycond['actPredVector_bytask_bysubj'],axis=2)[:,condNum]\n",
    "print('Min value: ', np.min(inputdata))\n",
    "print('Max value: ', np.max(inputdata))"
   ]
  },
  {
   "cell_type": "code",
   "execution_count": null,
   "metadata": {},
   "outputs": [],
   "source": [
    "assert np.min(inputdata) == \"placeholder\"\n",
    "assert np.max(inputdata) == \"placeholder\""
   ]
  },
  {
   "cell_type": "code",
   "execution_count": null,
   "metadata": {},
   "outputs": [],
   "source": [
    "#flip hemispheres, since CAB-NP is ordered left-to-right, while wbplot uses right-to-left\n",
    "inputdata_flipped=np.zeros(np.shape(inputdata))\n",
    "inputdata_flipped[0:180]=inputdata[180:360]\n",
    "inputdata_flipped[180:360]=inputdata[0:180]\n",
    "file_out=\"out.png\""
   ]
  },
  {
   "cell_type": "code",
   "execution_count": null,
   "metadata": {},
   "outputs": [],
   "source": [
    "assert inputdata_flipped == \"placeholder\""
   ]
  },
  {
   "cell_type": "code",
   "execution_count": null,
   "metadata": {},
   "outputs": [],
   "source": [
    "#Actual activity\n",
    "inputdata=np.mean(activations_bycond,axis=2)[:,condNum]\n",
    "print('Min value: ', np.min(inputdata))\n",
    "print('Max value: ', np.max(inputdata))"
   ]
  },
  {
   "cell_type": "code",
   "execution_count": null,
   "metadata": {},
   "outputs": [],
   "source": [
    "assert np.min(inputdata) == \"placeholder\"\n",
    "assert np.max(inputdata) == \"placeholder\""
   ]
  },
  {
   "cell_type": "code",
   "execution_count": null,
   "metadata": {},
   "outputs": [],
   "source": [
    "#flip hemispheres, since CAB-NP is ordered left-to-right, while wbplot uses right-to-left\n",
    "inputdata_flipped=np.zeros(np.shape(inputdata))\n",
    "inputdata_flipped[0:180]=inputdata[180:360]\n",
    "inputdata_flipped[180:360]=inputdata[0:180]\n",
    "file_out=\"out.png\""
   ]
  },
  {
   "cell_type": "code",
   "execution_count": null,
   "metadata": {},
   "outputs": [],
   "source": [
    "assert inputdata_flipped == \"placeholder\""
   ]
  },
  {
   "cell_type": "code",
   "execution_count": null,
   "metadata": {},
   "outputs": [],
   "source": [
    "print(\"===Compare resting-state multregFC actflow predictions to resting-state corrFC actflow prediction, 10 subjects only===\")\n",
    "model_compare_RestMultRegFCVsRestCorrFC_Actflow = actflow.model_compare(target_actvect=actflowOutput_restFCCorr_bycond['actVect_actual_group'][:,:,0:10], model1_actvect=actflowOutput_restFCMReg_bycond['actPredVector_bytask_bysubj'], model2_actvect=actflowOutput_restFCCorr_bycond['actPredVector_bytask_bysubj'][:,:,0:10], full_report=False, print_report=True)"
   ]
  },
  {
   "cell_type": "code",
   "execution_count": null,
   "metadata": {},
   "outputs": [],
   "source": [
    "assert model_compare_RestMultRegFCVsRestCorrFC_Actflow == \"placeholder\""
   ]
  },
  {
   "cell_type": "code",
   "execution_count": null,
   "metadata": {},
   "outputs": [],
   "source": [
    "print(\"===Compare TASK CONDITIONS SEPARATE, resting-state multregFC actflow predictions to resting-state corrFC actflow prediction, 10 subjects only===\")\n",
    "model_compare_RestMultRegFCVsRestCorrFC_Actflow_nodewise = actflow.model_compare(target_actvect=actflowOutput_restFCCorr_bycond['actVect_actual_group'][:,:,0:10], model1_actvect=actflowOutput_restFCMReg_bycond['actPredVector_bytask_bysubj'], model2_actvect=actflowOutput_restFCCorr_bycond['actPredVector_bytask_bysubj'][:,:,0:10], comparison_type='nodewise_compthenavg', full_report=False, print_report=True)"
   ]
  },
  {
   "cell_type": "code",
   "execution_count": null,
   "metadata": {},
   "outputs": [],
   "source": [
    "assert model_compare_RestMultRegFCVsRestCorrFC_Actflow_nodewise == \"placeholder\""
   ]
  },
  {
   "cell_type": "code",
   "execution_count": null,
   "metadata": {},
   "outputs": [],
   "source": [
    "print(\"===Compare REGIONS SEPARATE (24-condition response profiles), resting-state multregFC actflow predictions to resting-state corrFC actflow prediction, 10 subjects only===\")\n",
    "model_compare_RestMultRegFCVsRestCorrFC_Actflow_condwise = actflow.model_compare(target_actvect=actflowOutput_restFCCorr_bycond['actVect_actual_group'][:,:,0:10], model1_actvect=actflowOutput_restFCMReg_bycond['actPredVector_bytask_bysubj'], model2_actvect=actflowOutput_restFCCorr_bycond['actPredVector_bytask_bysubj'][:,:,0:10], comparison_type='conditionwise_compthenavg', full_report=False, print_report=True)"
   ]
  },
  {
   "cell_type": "code",
   "execution_count": null,
   "metadata": {},
   "outputs": [],
   "source": [
    "assert model_compare_RestMultRegFCVsRestCorrFC_Actflow_condwise == \"placeholder\""
   ]
  },
  {
   "cell_type": "code",
   "execution_count": null,
   "metadata": {},
   "outputs": [],
   "source": [
    "#Load dictionary listing which parcels to exclude for each target\n",
    "h5f = h5py.File(inputfilename,'r')\n",
    "parcels_to_remove={}\n",
    "for parcelInt in range(numnodes):\n",
    "    outname1 = 'parcels_to_remove_indices'+'/'+str(parcelInt)\n",
    "    parcels_to_remove[parcelInt] = h5f[outname1][:].copy()\n",
    "h5f.close()"
   ]
  },
  {
   "cell_type": "code",
   "execution_count": null,
   "metadata": {},
   "outputs": [],
   "source": [
    "#Calculate multiple-regression FC, excluding parcels within 10 mm of each target parcel\n",
    "restFC_mreg_parcelnoncirc=np.zeros((numnodes,numnodes,numsubjs))\n",
    "for scount in np.arange(numsubjs):\n",
    "    restFC_mreg_parcelnoncirc[:,:,scount]=actflow.connectivity_estimation.multregconn(restdata[:,:,scount], parcelstoexclude_bytarget=parcels_to_remove)"
   ]
  },
  {
   "cell_type": "code",
   "execution_count": null,
   "metadata": {},
   "outputs": [],
   "source": [
    "assert restFC_mreg_parcelnoncirc == \"placeholder\""
   ]
  },
  {
   "cell_type": "code",
   "execution_count": null,
   "metadata": {},
   "outputs": [],
   "source": [
    "print(\"==Activity flow mapping results, multiple-regression-based resting-state FC (parcel non-circular), 24 task conditions==\")\n",
    "actflowOutput_restFCMReg_parcelnoncirc_bycond = actflow.actflowcomp.actflowtest(activations_bycond, restFC_mreg_parcelnoncirc)"
   ]
  },
  {
   "cell_type": "code",
   "execution_count": null,
   "metadata": {},
   "outputs": [],
   "source": [
    "assert actflowOutput_restFCMReg_parcelnoncirc_bycond == \"placeholder\""
   ]
  }
 ],
 "metadata": {
  "kernelspec": {
   "display_name": "Python 3",
   "language": "python",
   "name": "python3"
  },
  "language_info": {
   "codemirror_mode": {
    "name": "ipython",
    "version": 3
   },
   "file_extension": ".py",
   "mimetype": "text/x-python",
   "name": "python",
   "nbconvert_exporter": "python",
   "pygments_lexer": "ipython3",
   "version": "3.8.3"
  }
 },
 "nbformat": 4,
 "nbformat_minor": 4
}
